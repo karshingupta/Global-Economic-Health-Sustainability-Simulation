{
  "nbformat": 4,
  "nbformat_minor": 0,
  "metadata": {
    "colab": {
      "provenance": [],
      "gpuType": "V28",
      "machine_shape": "hm"
    },
    "kernelspec": {
      "name": "python3",
      "display_name": "Python 3"
    },
    "language_info": {
      "name": "python"
    },
    "accelerator": "TPU"
  },
  "cells": [
    {
      "cell_type": "code",
      "execution_count": null,
      "metadata": {
        "id": "jNIaA4yEwqXw"
      },
      "outputs": [],
      "source": [
        "import pandas as pd\n",
        "import numpy as np\n",
        "import os\n",
        "import pickle\n",
        "import matplotlib.pyplot as plt\n",
        "import sklearn\n",
        "from sklearn import __version__ as sklearn_version\n",
        "from sklearn.decomposition import PCA\n",
        "from sklearn.preprocessing import scale, StandardScaler, MinMaxScaler\n",
        "from sklearn.model_selection import train_test_split, cross_validate, GridSearchCV, learning_curve\n",
        "from sklearn.dummy import DummyRegressor\n",
        "from sklearn.linear_model import LinearRegression\n",
        "from sklearn.ensemble import RandomForestRegressor, StackingRegressor, GradientBoostingRegressor\n",
        "from sklearn.metrics import r2_score, mean_squared_error, mean_absolute_error\n",
        "from sklearn.pipeline import make_pipeline\n",
        "from sklearn.impute import SimpleImputer\n",
        "from sklearn.feature_selection import SelectKBest, f_regression\n",
        "from sklearn.ensemble import BaggingRegressor\n",
        "from sklearn.metrics import r2_score\n",
        "from sklearn.ensemble import GradientBoostingRegressor\n",
        "import pickle\n",
        "energy = pd.read_csv('energy_processed.csv')"
      ]
    },
    {
      "cell_type": "code",
      "source": [
        "pip install scikit-optimize"
      ],
      "metadata": {
        "colab": {
          "base_uri": "https://localhost:8080/"
        },
        "id": "0fEXubSVMvdx",
        "outputId": "e60ec74b-6ea3-4e87-91dd-5c7522b7b938"
      },
      "execution_count": null,
      "outputs": [
        {
          "output_type": "stream",
          "name": "stdout",
          "text": [
            "Collecting scikit-optimize\n",
            "  Downloading scikit_optimize-0.10.2-py2.py3-none-any.whl.metadata (9.7 kB)\n",
            "Requirement already satisfied: joblib>=0.11 in /usr/local/lib/python3.10/dist-packages (from scikit-optimize) (1.4.2)\n",
            "Collecting pyaml>=16.9 (from scikit-optimize)\n",
            "  Downloading pyaml-24.7.0-py3-none-any.whl.metadata (11 kB)\n",
            "Requirement already satisfied: numpy>=1.20.3 in /usr/local/lib/python3.10/dist-packages (from scikit-optimize) (1.26.4)\n",
            "Requirement already satisfied: scipy>=1.1.0 in /usr/local/lib/python3.10/dist-packages (from scikit-optimize) (1.13.1)\n",
            "Requirement already satisfied: scikit-learn>=1.0.0 in /usr/local/lib/python3.10/dist-packages (from scikit-optimize) (1.3.2)\n",
            "Requirement already satisfied: packaging>=21.3 in /usr/local/lib/python3.10/dist-packages (from scikit-optimize) (24.1)\n",
            "Requirement already satisfied: PyYAML in /usr/local/lib/python3.10/dist-packages (from pyaml>=16.9->scikit-optimize) (6.0.2)\n",
            "Requirement already satisfied: threadpoolctl>=2.0.0 in /usr/local/lib/python3.10/dist-packages (from scikit-learn>=1.0.0->scikit-optimize) (3.5.0)\n",
            "Downloading scikit_optimize-0.10.2-py2.py3-none-any.whl (107 kB)\n",
            "\u001b[2K   \u001b[90m━━━━━━━━━━━━━━━━━━━━━━━━━━━━━━━━━━━━━━━━\u001b[0m \u001b[32m107.8/107.8 kB\u001b[0m \u001b[31m904.5 kB/s\u001b[0m eta \u001b[36m0:00:00\u001b[0m\n",
            "\u001b[?25hDownloading pyaml-24.7.0-py3-none-any.whl (24 kB)\n",
            "Installing collected packages: pyaml, scikit-optimize\n",
            "Successfully installed pyaml-24.7.0 scikit-optimize-0.10.2\n"
          ]
        }
      ]
    },
    {
      "cell_type": "code",
      "source": [
        "from skopt import BayesSearchCV\n",
        "from skopt.space import Real, Integer, Categorical"
      ],
      "metadata": {
        "id": "dTx_HO0qMyEp"
      },
      "execution_count": null,
      "outputs": []
    },
    {
      "cell_type": "code",
      "source": [
        "energy"
      ],
      "metadata": {
        "colab": {
          "base_uri": "https://localhost:8080/",
          "height": 444
        },
        "id": "MzuvesG5Stcr",
        "outputId": "e4ef96d8-8632-4f6a-baf9-8a33543769ec"
      },
      "execution_count": null,
      "outputs": [
        {
          "output_type": "execute_result",
          "data": {
            "text/plain": [
              "      electricity_access_%  clean_fuels_access_%  \\\n",
              "0                 0.211158              0.339137   \n",
              "1                 0.210378              0.348912   \n",
              "2                 0.208649              0.373351   \n",
              "3                 0.206264              0.383126   \n",
              "4                 0.203519              0.392901   \n",
              "...                    ...                   ...   \n",
              "1486              0.339709             -0.242492   \n",
              "1487              0.339709             -0.257155   \n",
              "1488              0.339709             -0.286481   \n",
              "1489              0.339709             -0.271818   \n",
              "1490              0.339709             -0.288925   \n",
              "\n",
              "      renewable_energy_share_final  electricity_fossil_fuels_output  \\\n",
              "0                        -1.023181                        -0.271219   \n",
              "1                        -1.023181                        -0.269097   \n",
              "2                        -1.018321                        -0.267241   \n",
              "3                        -1.020751                        -0.264211   \n",
              "4                        -1.022573                        -0.261181   \n",
              "...                            ...                              ...   \n",
              "1486                     -0.951495                        -0.224039   \n",
              "1487                     -0.942990                        -0.222221   \n",
              "1488                     -0.958785                        -0.214891   \n",
              "1489                     -0.953925                        -0.214778   \n",
              "1490                     -0.953925                        -0.219910   \n",
              "\n",
              "      electricity_nuclear_output  electricity_renewables_output  \\\n",
              "0                      -0.287447                      -0.345974   \n",
              "1                      -0.287447                      -0.345848   \n",
              "2                      -0.287447                      -0.345911   \n",
              "3                      -0.287447                      -0.344643   \n",
              "4                      -0.287447                      -0.344706   \n",
              "...                          ...                            ...   \n",
              "1486                   -0.287447                      -0.300327   \n",
              "1487                   -0.287447                      -0.293353   \n",
              "1488                   -0.287447                      -0.309203   \n",
              "1489                   -0.287447                      -0.305272   \n",
              "1490                   -0.287447                      -0.314528   \n",
              "\n",
              "      electricity_low_carbon  energy_consumption_per_capita  \\\n",
              "0                  -1.127643                      -0.837257   \n",
              "1                  -1.125334                      -0.832142   \n",
              "2                  -1.126938                      -0.826941   \n",
              "3                  -1.103820                      -0.819091   \n",
              "4                  -1.106597                      -0.813181   \n",
              "...                      ...                            ...   \n",
              "1486               -0.709669                      -0.679652   \n",
              "1487               -0.662571                      -0.673272   \n",
              "1488               -0.811492                      -0.677955   \n",
              "1489               -0.781299                      -0.683508   \n",
              "1490               -0.840615                      -0.691869   \n",
              "\n",
              "      energy_usage_per_gdp  co2_emissions_per_capita  ...  \\\n",
              "0                -0.288450                 -0.246136  ...   \n",
              "1                -0.317675                 -0.247356  ...   \n",
              "2                -0.304391                 -0.244089  ...   \n",
              "3                -0.315018                 -0.239045  ...   \n",
              "4                -0.346900                 -0.237912  ...   \n",
              "...                    ...                       ...  ...   \n",
              "1486              0.678634                 -0.224199  ...   \n",
              "1487              0.694575                 -0.220452  ...   \n",
              "1488              1.005424                 -0.217891  ...   \n",
              "1489              0.824760                 -0.214197  ...   \n",
              "1490              0.824760                 -0.214197  ...   \n",
              "\n",
              "      electricity_renewables_consumption_ratio  \\\n",
              "0                                    -0.343428   \n",
              "1                                    -0.343162   \n",
              "2                                    -0.343321   \n",
              "3                                    -0.340680   \n",
              "4                                    -0.340890   \n",
              "...                                        ...   \n",
              "1486                                 -0.282090   \n",
              "1487                                 -0.273827   \n",
              "1488                                 -0.294291   \n",
              "1489                                 -0.288213   \n",
              "1490                                 -0.299875   \n",
              "\n",
              "      co2_emissions_consumption_ratio  land_area_with_electricity_access  \\\n",
              "0                           -0.163452                           0.544158   \n",
              "1                           -0.168877                           0.544094   \n",
              "2                           -0.165485                           0.543951   \n",
              "3                           -0.160422                           0.543755   \n",
              "4                           -0.161668                           0.543529   \n",
              "...                               ...                                ...   \n",
              "1486                        -0.193946                          -0.282260   \n",
              "1487                        -0.191305                          -0.282260   \n",
              "1488                        -0.186908                          -0.282260   \n",
              "1489                        -0.180763                          -0.282260   \n",
              "1490                        -0.178039                          -0.282260   \n",
              "\n",
              "      land_area_with_clean_fuels_access  land_area_category  density_category  \\\n",
              "0                              0.627004                   2                 0   \n",
              "1                              0.629245                   2                 0   \n",
              "2                              0.634847                   2                 0   \n",
              "3                              0.637088                   2                 0   \n",
              "4                              0.639329                   2                 0   \n",
              "...                                 ...                 ...               ...   \n",
              "1486                          -0.281607                   1                 1   \n",
              "1487                          -0.282239                   1                 1   \n",
              "1488                          -0.283502                   1                 1   \n",
              "1489                          -0.282870                   1                 1   \n",
              "1490                          -0.283607                   1                 1   \n",
              "\n",
              "      quadrant     country  year  gdp_per_capita  \n",
              "0            1     Algeria  2000     1765.027146  \n",
              "1            1     Algeria  2001     1740.606654  \n",
              "2            1     Algeria  2002     1781.828908  \n",
              "3            1     Algeria  2003     2103.381291  \n",
              "4            1     Algeria  2004     2610.185422  \n",
              "...        ...         ...   ...             ...  \n",
              "1486         1  Uzbekistan  2016     2704.677188  \n",
              "1487         1  Uzbekistan  2017     1916.764642  \n",
              "1488         1  Uzbekistan  2018     1597.068337  \n",
              "1489         1  Uzbekistan  2019     1784.009816  \n",
              "1490         1  Uzbekistan  2020     1750.697113  \n",
              "\n",
              "[1491 rows x 27 columns]"
            ],
            "text/html": [
              "\n",
              "  <div id=\"df-c2979efc-14b3-40e4-944f-1113ee0bfcf1\" class=\"colab-df-container\">\n",
              "    <div>\n",
              "<style scoped>\n",
              "    .dataframe tbody tr th:only-of-type {\n",
              "        vertical-align: middle;\n",
              "    }\n",
              "\n",
              "    .dataframe tbody tr th {\n",
              "        vertical-align: top;\n",
              "    }\n",
              "\n",
              "    .dataframe thead th {\n",
              "        text-align: right;\n",
              "    }\n",
              "</style>\n",
              "<table border=\"1\" class=\"dataframe\">\n",
              "  <thead>\n",
              "    <tr style=\"text-align: right;\">\n",
              "      <th></th>\n",
              "      <th>electricity_access_%</th>\n",
              "      <th>clean_fuels_access_%</th>\n",
              "      <th>renewable_energy_share_final</th>\n",
              "      <th>electricity_fossil_fuels_output</th>\n",
              "      <th>electricity_nuclear_output</th>\n",
              "      <th>electricity_renewables_output</th>\n",
              "      <th>electricity_low_carbon</th>\n",
              "      <th>energy_consumption_per_capita</th>\n",
              "      <th>energy_usage_per_gdp</th>\n",
              "      <th>co2_emissions_per_capita</th>\n",
              "      <th>...</th>\n",
              "      <th>electricity_renewables_consumption_ratio</th>\n",
              "      <th>co2_emissions_consumption_ratio</th>\n",
              "      <th>land_area_with_electricity_access</th>\n",
              "      <th>land_area_with_clean_fuels_access</th>\n",
              "      <th>land_area_category</th>\n",
              "      <th>density_category</th>\n",
              "      <th>quadrant</th>\n",
              "      <th>country</th>\n",
              "      <th>year</th>\n",
              "      <th>gdp_per_capita</th>\n",
              "    </tr>\n",
              "  </thead>\n",
              "  <tbody>\n",
              "    <tr>\n",
              "      <th>0</th>\n",
              "      <td>0.211158</td>\n",
              "      <td>0.339137</td>\n",
              "      <td>-1.023181</td>\n",
              "      <td>-0.271219</td>\n",
              "      <td>-0.287447</td>\n",
              "      <td>-0.345974</td>\n",
              "      <td>-1.127643</td>\n",
              "      <td>-0.837257</td>\n",
              "      <td>-0.288450</td>\n",
              "      <td>-0.246136</td>\n",
              "      <td>...</td>\n",
              "      <td>-0.343428</td>\n",
              "      <td>-0.163452</td>\n",
              "      <td>0.544158</td>\n",
              "      <td>0.627004</td>\n",
              "      <td>2</td>\n",
              "      <td>0</td>\n",
              "      <td>1</td>\n",
              "      <td>Algeria</td>\n",
              "      <td>2000</td>\n",
              "      <td>1765.027146</td>\n",
              "    </tr>\n",
              "    <tr>\n",
              "      <th>1</th>\n",
              "      <td>0.210378</td>\n",
              "      <td>0.348912</td>\n",
              "      <td>-1.023181</td>\n",
              "      <td>-0.269097</td>\n",
              "      <td>-0.287447</td>\n",
              "      <td>-0.345848</td>\n",
              "      <td>-1.125334</td>\n",
              "      <td>-0.832142</td>\n",
              "      <td>-0.317675</td>\n",
              "      <td>-0.247356</td>\n",
              "      <td>...</td>\n",
              "      <td>-0.343162</td>\n",
              "      <td>-0.168877</td>\n",
              "      <td>0.544094</td>\n",
              "      <td>0.629245</td>\n",
              "      <td>2</td>\n",
              "      <td>0</td>\n",
              "      <td>1</td>\n",
              "      <td>Algeria</td>\n",
              "      <td>2001</td>\n",
              "      <td>1740.606654</td>\n",
              "    </tr>\n",
              "    <tr>\n",
              "      <th>2</th>\n",
              "      <td>0.208649</td>\n",
              "      <td>0.373351</td>\n",
              "      <td>-1.018321</td>\n",
              "      <td>-0.267241</td>\n",
              "      <td>-0.287447</td>\n",
              "      <td>-0.345911</td>\n",
              "      <td>-1.126938</td>\n",
              "      <td>-0.826941</td>\n",
              "      <td>-0.304391</td>\n",
              "      <td>-0.244089</td>\n",
              "      <td>...</td>\n",
              "      <td>-0.343321</td>\n",
              "      <td>-0.165485</td>\n",
              "      <td>0.543951</td>\n",
              "      <td>0.634847</td>\n",
              "      <td>2</td>\n",
              "      <td>0</td>\n",
              "      <td>1</td>\n",
              "      <td>Algeria</td>\n",
              "      <td>2002</td>\n",
              "      <td>1781.828908</td>\n",
              "    </tr>\n",
              "    <tr>\n",
              "      <th>3</th>\n",
              "      <td>0.206264</td>\n",
              "      <td>0.383126</td>\n",
              "      <td>-1.020751</td>\n",
              "      <td>-0.264211</td>\n",
              "      <td>-0.287447</td>\n",
              "      <td>-0.344643</td>\n",
              "      <td>-1.103820</td>\n",
              "      <td>-0.819091</td>\n",
              "      <td>-0.315018</td>\n",
              "      <td>-0.239045</td>\n",
              "      <td>...</td>\n",
              "      <td>-0.340680</td>\n",
              "      <td>-0.160422</td>\n",
              "      <td>0.543755</td>\n",
              "      <td>0.637088</td>\n",
              "      <td>2</td>\n",
              "      <td>0</td>\n",
              "      <td>1</td>\n",
              "      <td>Algeria</td>\n",
              "      <td>2003</td>\n",
              "      <td>2103.381291</td>\n",
              "    </tr>\n",
              "    <tr>\n",
              "      <th>4</th>\n",
              "      <td>0.203519</td>\n",
              "      <td>0.392901</td>\n",
              "      <td>-1.022573</td>\n",
              "      <td>-0.261181</td>\n",
              "      <td>-0.287447</td>\n",
              "      <td>-0.344706</td>\n",
              "      <td>-1.106597</td>\n",
              "      <td>-0.813181</td>\n",
              "      <td>-0.346900</td>\n",
              "      <td>-0.237912</td>\n",
              "      <td>...</td>\n",
              "      <td>-0.340890</td>\n",
              "      <td>-0.161668</td>\n",
              "      <td>0.543529</td>\n",
              "      <td>0.639329</td>\n",
              "      <td>2</td>\n",
              "      <td>0</td>\n",
              "      <td>1</td>\n",
              "      <td>Algeria</td>\n",
              "      <td>2004</td>\n",
              "      <td>2610.185422</td>\n",
              "    </tr>\n",
              "    <tr>\n",
              "      <th>...</th>\n",
              "      <td>...</td>\n",
              "      <td>...</td>\n",
              "      <td>...</td>\n",
              "      <td>...</td>\n",
              "      <td>...</td>\n",
              "      <td>...</td>\n",
              "      <td>...</td>\n",
              "      <td>...</td>\n",
              "      <td>...</td>\n",
              "      <td>...</td>\n",
              "      <td>...</td>\n",
              "      <td>...</td>\n",
              "      <td>...</td>\n",
              "      <td>...</td>\n",
              "      <td>...</td>\n",
              "      <td>...</td>\n",
              "      <td>...</td>\n",
              "      <td>...</td>\n",
              "      <td>...</td>\n",
              "      <td>...</td>\n",
              "      <td>...</td>\n",
              "    </tr>\n",
              "    <tr>\n",
              "      <th>1486</th>\n",
              "      <td>0.339709</td>\n",
              "      <td>-0.242492</td>\n",
              "      <td>-0.951495</td>\n",
              "      <td>-0.224039</td>\n",
              "      <td>-0.287447</td>\n",
              "      <td>-0.300327</td>\n",
              "      <td>-0.709669</td>\n",
              "      <td>-0.679652</td>\n",
              "      <td>0.678634</td>\n",
              "      <td>-0.224199</td>\n",
              "      <td>...</td>\n",
              "      <td>-0.282090</td>\n",
              "      <td>-0.193946</td>\n",
              "      <td>-0.282260</td>\n",
              "      <td>-0.281607</td>\n",
              "      <td>1</td>\n",
              "      <td>1</td>\n",
              "      <td>1</td>\n",
              "      <td>Uzbekistan</td>\n",
              "      <td>2016</td>\n",
              "      <td>2704.677188</td>\n",
              "    </tr>\n",
              "    <tr>\n",
              "      <th>1487</th>\n",
              "      <td>0.339709</td>\n",
              "      <td>-0.257155</td>\n",
              "      <td>-0.942990</td>\n",
              "      <td>-0.222221</td>\n",
              "      <td>-0.287447</td>\n",
              "      <td>-0.293353</td>\n",
              "      <td>-0.662571</td>\n",
              "      <td>-0.673272</td>\n",
              "      <td>0.694575</td>\n",
              "      <td>-0.220452</td>\n",
              "      <td>...</td>\n",
              "      <td>-0.273827</td>\n",
              "      <td>-0.191305</td>\n",
              "      <td>-0.282260</td>\n",
              "      <td>-0.282239</td>\n",
              "      <td>1</td>\n",
              "      <td>1</td>\n",
              "      <td>1</td>\n",
              "      <td>Uzbekistan</td>\n",
              "      <td>2017</td>\n",
              "      <td>1916.764642</td>\n",
              "    </tr>\n",
              "    <tr>\n",
              "      <th>1488</th>\n",
              "      <td>0.339709</td>\n",
              "      <td>-0.286481</td>\n",
              "      <td>-0.958785</td>\n",
              "      <td>-0.214891</td>\n",
              "      <td>-0.287447</td>\n",
              "      <td>-0.309203</td>\n",
              "      <td>-0.811492</td>\n",
              "      <td>-0.677955</td>\n",
              "      <td>1.005424</td>\n",
              "      <td>-0.217891</td>\n",
              "      <td>...</td>\n",
              "      <td>-0.294291</td>\n",
              "      <td>-0.186908</td>\n",
              "      <td>-0.282260</td>\n",
              "      <td>-0.283502</td>\n",
              "      <td>1</td>\n",
              "      <td>1</td>\n",
              "      <td>1</td>\n",
              "      <td>Uzbekistan</td>\n",
              "      <td>2018</td>\n",
              "      <td>1597.068337</td>\n",
              "    </tr>\n",
              "    <tr>\n",
              "      <th>1489</th>\n",
              "      <td>0.339709</td>\n",
              "      <td>-0.271818</td>\n",
              "      <td>-0.953925</td>\n",
              "      <td>-0.214778</td>\n",
              "      <td>-0.287447</td>\n",
              "      <td>-0.305272</td>\n",
              "      <td>-0.781299</td>\n",
              "      <td>-0.683508</td>\n",
              "      <td>0.824760</td>\n",
              "      <td>-0.214197</td>\n",
              "      <td>...</td>\n",
              "      <td>-0.288213</td>\n",
              "      <td>-0.180763</td>\n",
              "      <td>-0.282260</td>\n",
              "      <td>-0.282870</td>\n",
              "      <td>1</td>\n",
              "      <td>1</td>\n",
              "      <td>1</td>\n",
              "      <td>Uzbekistan</td>\n",
              "      <td>2019</td>\n",
              "      <td>1784.009816</td>\n",
              "    </tr>\n",
              "    <tr>\n",
              "      <th>1490</th>\n",
              "      <td>0.339709</td>\n",
              "      <td>-0.288925</td>\n",
              "      <td>-0.953925</td>\n",
              "      <td>-0.219910</td>\n",
              "      <td>-0.287447</td>\n",
              "      <td>-0.314528</td>\n",
              "      <td>-0.840615</td>\n",
              "      <td>-0.691869</td>\n",
              "      <td>0.824760</td>\n",
              "      <td>-0.214197</td>\n",
              "      <td>...</td>\n",
              "      <td>-0.299875</td>\n",
              "      <td>-0.178039</td>\n",
              "      <td>-0.282260</td>\n",
              "      <td>-0.283607</td>\n",
              "      <td>1</td>\n",
              "      <td>1</td>\n",
              "      <td>1</td>\n",
              "      <td>Uzbekistan</td>\n",
              "      <td>2020</td>\n",
              "      <td>1750.697113</td>\n",
              "    </tr>\n",
              "  </tbody>\n",
              "</table>\n",
              "<p>1491 rows × 27 columns</p>\n",
              "</div>\n",
              "    <div class=\"colab-df-buttons\">\n",
              "\n",
              "  <div class=\"colab-df-container\">\n",
              "    <button class=\"colab-df-convert\" onclick=\"convertToInteractive('df-c2979efc-14b3-40e4-944f-1113ee0bfcf1')\"\n",
              "            title=\"Convert this dataframe to an interactive table.\"\n",
              "            style=\"display:none;\">\n",
              "\n",
              "  <svg xmlns=\"http://www.w3.org/2000/svg\" height=\"24px\" viewBox=\"0 -960 960 960\">\n",
              "    <path d=\"M120-120v-720h720v720H120Zm60-500h600v-160H180v160Zm220 220h160v-160H400v160Zm0 220h160v-160H400v160ZM180-400h160v-160H180v160Zm440 0h160v-160H620v160ZM180-180h160v-160H180v160Zm440 0h160v-160H620v160Z\"/>\n",
              "  </svg>\n",
              "    </button>\n",
              "\n",
              "  <style>\n",
              "    .colab-df-container {\n",
              "      display:flex;\n",
              "      gap: 12px;\n",
              "    }\n",
              "\n",
              "    .colab-df-convert {\n",
              "      background-color: #E8F0FE;\n",
              "      border: none;\n",
              "      border-radius: 50%;\n",
              "      cursor: pointer;\n",
              "      display: none;\n",
              "      fill: #1967D2;\n",
              "      height: 32px;\n",
              "      padding: 0 0 0 0;\n",
              "      width: 32px;\n",
              "    }\n",
              "\n",
              "    .colab-df-convert:hover {\n",
              "      background-color: #E2EBFA;\n",
              "      box-shadow: 0px 1px 2px rgba(60, 64, 67, 0.3), 0px 1px 3px 1px rgba(60, 64, 67, 0.15);\n",
              "      fill: #174EA6;\n",
              "    }\n",
              "\n",
              "    .colab-df-buttons div {\n",
              "      margin-bottom: 4px;\n",
              "    }\n",
              "\n",
              "    [theme=dark] .colab-df-convert {\n",
              "      background-color: #3B4455;\n",
              "      fill: #D2E3FC;\n",
              "    }\n",
              "\n",
              "    [theme=dark] .colab-df-convert:hover {\n",
              "      background-color: #434B5C;\n",
              "      box-shadow: 0px 1px 3px 1px rgba(0, 0, 0, 0.15);\n",
              "      filter: drop-shadow(0px 1px 2px rgba(0, 0, 0, 0.3));\n",
              "      fill: #FFFFFF;\n",
              "    }\n",
              "  </style>\n",
              "\n",
              "    <script>\n",
              "      const buttonEl =\n",
              "        document.querySelector('#df-c2979efc-14b3-40e4-944f-1113ee0bfcf1 button.colab-df-convert');\n",
              "      buttonEl.style.display =\n",
              "        google.colab.kernel.accessAllowed ? 'block' : 'none';\n",
              "\n",
              "      async function convertToInteractive(key) {\n",
              "        const element = document.querySelector('#df-c2979efc-14b3-40e4-944f-1113ee0bfcf1');\n",
              "        const dataTable =\n",
              "          await google.colab.kernel.invokeFunction('convertToInteractive',\n",
              "                                                    [key], {});\n",
              "        if (!dataTable) return;\n",
              "\n",
              "        const docLinkHtml = 'Like what you see? Visit the ' +\n",
              "          '<a target=\"_blank\" href=https://colab.research.google.com/notebooks/data_table.ipynb>data table notebook</a>'\n",
              "          + ' to learn more about interactive tables.';\n",
              "        element.innerHTML = '';\n",
              "        dataTable['output_type'] = 'display_data';\n",
              "        await google.colab.output.renderOutput(dataTable, element);\n",
              "        const docLink = document.createElement('div');\n",
              "        docLink.innerHTML = docLinkHtml;\n",
              "        element.appendChild(docLink);\n",
              "      }\n",
              "    </script>\n",
              "  </div>\n",
              "\n",
              "\n",
              "<div id=\"df-98c13dec-9796-45de-85c9-030a413884a7\">\n",
              "  <button class=\"colab-df-quickchart\" onclick=\"quickchart('df-98c13dec-9796-45de-85c9-030a413884a7')\"\n",
              "            title=\"Suggest charts\"\n",
              "            style=\"display:none;\">\n",
              "\n",
              "<svg xmlns=\"http://www.w3.org/2000/svg\" height=\"24px\"viewBox=\"0 0 24 24\"\n",
              "     width=\"24px\">\n",
              "    <g>\n",
              "        <path d=\"M19 3H5c-1.1 0-2 .9-2 2v14c0 1.1.9 2 2 2h14c1.1 0 2-.9 2-2V5c0-1.1-.9-2-2-2zM9 17H7v-7h2v7zm4 0h-2V7h2v10zm4 0h-2v-4h2v4z\"/>\n",
              "    </g>\n",
              "</svg>\n",
              "  </button>\n",
              "\n",
              "<style>\n",
              "  .colab-df-quickchart {\n",
              "      --bg-color: #E8F0FE;\n",
              "      --fill-color: #1967D2;\n",
              "      --hover-bg-color: #E2EBFA;\n",
              "      --hover-fill-color: #174EA6;\n",
              "      --disabled-fill-color: #AAA;\n",
              "      --disabled-bg-color: #DDD;\n",
              "  }\n",
              "\n",
              "  [theme=dark] .colab-df-quickchart {\n",
              "      --bg-color: #3B4455;\n",
              "      --fill-color: #D2E3FC;\n",
              "      --hover-bg-color: #434B5C;\n",
              "      --hover-fill-color: #FFFFFF;\n",
              "      --disabled-bg-color: #3B4455;\n",
              "      --disabled-fill-color: #666;\n",
              "  }\n",
              "\n",
              "  .colab-df-quickchart {\n",
              "    background-color: var(--bg-color);\n",
              "    border: none;\n",
              "    border-radius: 50%;\n",
              "    cursor: pointer;\n",
              "    display: none;\n",
              "    fill: var(--fill-color);\n",
              "    height: 32px;\n",
              "    padding: 0;\n",
              "    width: 32px;\n",
              "  }\n",
              "\n",
              "  .colab-df-quickchart:hover {\n",
              "    background-color: var(--hover-bg-color);\n",
              "    box-shadow: 0 1px 2px rgba(60, 64, 67, 0.3), 0 1px 3px 1px rgba(60, 64, 67, 0.15);\n",
              "    fill: var(--button-hover-fill-color);\n",
              "  }\n",
              "\n",
              "  .colab-df-quickchart-complete:disabled,\n",
              "  .colab-df-quickchart-complete:disabled:hover {\n",
              "    background-color: var(--disabled-bg-color);\n",
              "    fill: var(--disabled-fill-color);\n",
              "    box-shadow: none;\n",
              "  }\n",
              "\n",
              "  .colab-df-spinner {\n",
              "    border: 2px solid var(--fill-color);\n",
              "    border-color: transparent;\n",
              "    border-bottom-color: var(--fill-color);\n",
              "    animation:\n",
              "      spin 1s steps(1) infinite;\n",
              "  }\n",
              "\n",
              "  @keyframes spin {\n",
              "    0% {\n",
              "      border-color: transparent;\n",
              "      border-bottom-color: var(--fill-color);\n",
              "      border-left-color: var(--fill-color);\n",
              "    }\n",
              "    20% {\n",
              "      border-color: transparent;\n",
              "      border-left-color: var(--fill-color);\n",
              "      border-top-color: var(--fill-color);\n",
              "    }\n",
              "    30% {\n",
              "      border-color: transparent;\n",
              "      border-left-color: var(--fill-color);\n",
              "      border-top-color: var(--fill-color);\n",
              "      border-right-color: var(--fill-color);\n",
              "    }\n",
              "    40% {\n",
              "      border-color: transparent;\n",
              "      border-right-color: var(--fill-color);\n",
              "      border-top-color: var(--fill-color);\n",
              "    }\n",
              "    60% {\n",
              "      border-color: transparent;\n",
              "      border-right-color: var(--fill-color);\n",
              "    }\n",
              "    80% {\n",
              "      border-color: transparent;\n",
              "      border-right-color: var(--fill-color);\n",
              "      border-bottom-color: var(--fill-color);\n",
              "    }\n",
              "    90% {\n",
              "      border-color: transparent;\n",
              "      border-bottom-color: var(--fill-color);\n",
              "    }\n",
              "  }\n",
              "</style>\n",
              "\n",
              "  <script>\n",
              "    async function quickchart(key) {\n",
              "      const quickchartButtonEl =\n",
              "        document.querySelector('#' + key + ' button');\n",
              "      quickchartButtonEl.disabled = true;  // To prevent multiple clicks.\n",
              "      quickchartButtonEl.classList.add('colab-df-spinner');\n",
              "      try {\n",
              "        const charts = await google.colab.kernel.invokeFunction(\n",
              "            'suggestCharts', [key], {});\n",
              "      } catch (error) {\n",
              "        console.error('Error during call to suggestCharts:', error);\n",
              "      }\n",
              "      quickchartButtonEl.classList.remove('colab-df-spinner');\n",
              "      quickchartButtonEl.classList.add('colab-df-quickchart-complete');\n",
              "    }\n",
              "    (() => {\n",
              "      let quickchartButtonEl =\n",
              "        document.querySelector('#df-98c13dec-9796-45de-85c9-030a413884a7 button');\n",
              "      quickchartButtonEl.style.display =\n",
              "        google.colab.kernel.accessAllowed ? 'block' : 'none';\n",
              "    })();\n",
              "  </script>\n",
              "</div>\n",
              "\n",
              "  <div id=\"id_e7811f17-9c18-46fc-8322-63d4ccc621f0\">\n",
              "    <style>\n",
              "      .colab-df-generate {\n",
              "        background-color: #E8F0FE;\n",
              "        border: none;\n",
              "        border-radius: 50%;\n",
              "        cursor: pointer;\n",
              "        display: none;\n",
              "        fill: #1967D2;\n",
              "        height: 32px;\n",
              "        padding: 0 0 0 0;\n",
              "        width: 32px;\n",
              "      }\n",
              "\n",
              "      .colab-df-generate:hover {\n",
              "        background-color: #E2EBFA;\n",
              "        box-shadow: 0px 1px 2px rgba(60, 64, 67, 0.3), 0px 1px 3px 1px rgba(60, 64, 67, 0.15);\n",
              "        fill: #174EA6;\n",
              "      }\n",
              "\n",
              "      [theme=dark] .colab-df-generate {\n",
              "        background-color: #3B4455;\n",
              "        fill: #D2E3FC;\n",
              "      }\n",
              "\n",
              "      [theme=dark] .colab-df-generate:hover {\n",
              "        background-color: #434B5C;\n",
              "        box-shadow: 0px 1px 3px 1px rgba(0, 0, 0, 0.15);\n",
              "        filter: drop-shadow(0px 1px 2px rgba(0, 0, 0, 0.3));\n",
              "        fill: #FFFFFF;\n",
              "      }\n",
              "    </style>\n",
              "    <button class=\"colab-df-generate\" onclick=\"generateWithVariable('energy')\"\n",
              "            title=\"Generate code using this dataframe.\"\n",
              "            style=\"display:none;\">\n",
              "\n",
              "  <svg xmlns=\"http://www.w3.org/2000/svg\" height=\"24px\"viewBox=\"0 0 24 24\"\n",
              "       width=\"24px\">\n",
              "    <path d=\"M7,19H8.4L18.45,9,17,7.55,7,17.6ZM5,21V16.75L18.45,3.32a2,2,0,0,1,2.83,0l1.4,1.43a1.91,1.91,0,0,1,.58,1.4,1.91,1.91,0,0,1-.58,1.4L9.25,21ZM18.45,9,17,7.55Zm-12,3A5.31,5.31,0,0,0,4.9,8.1,5.31,5.31,0,0,0,1,6.5,5.31,5.31,0,0,0,4.9,4.9,5.31,5.31,0,0,0,6.5,1,5.31,5.31,0,0,0,8.1,4.9,5.31,5.31,0,0,0,12,6.5,5.46,5.46,0,0,0,6.5,12Z\"/>\n",
              "  </svg>\n",
              "    </button>\n",
              "    <script>\n",
              "      (() => {\n",
              "      const buttonEl =\n",
              "        document.querySelector('#id_e7811f17-9c18-46fc-8322-63d4ccc621f0 button.colab-df-generate');\n",
              "      buttonEl.style.display =\n",
              "        google.colab.kernel.accessAllowed ? 'block' : 'none';\n",
              "\n",
              "      buttonEl.onclick = () => {\n",
              "        google.colab.notebook.generateWithVariable('energy');\n",
              "      }\n",
              "      })();\n",
              "    </script>\n",
              "  </div>\n",
              "\n",
              "    </div>\n",
              "  </div>\n"
            ],
            "application/vnd.google.colaboratory.intrinsic+json": {
              "type": "dataframe",
              "variable_name": "energy"
            }
          },
          "metadata": {},
          "execution_count": 4
        }
      ]
    },
    {
      "cell_type": "code",
      "source": [
        "X_train, X_test, y_train, y_test = train_test_split(energy.drop(columns=['gdp_per_capita', 'country', 'year']),\n",
        "                                                    energy.gdp_per_capita, test_size=0.3,\n",
        "                                                    random_state=47)"
      ],
      "metadata": {
        "id": "o7KOxAnEztWc"
      },
      "execution_count": null,
      "outputs": []
    },
    {
      "cell_type": "markdown",
      "source": [
        "Let's start with a basic linear regression model."
      ],
      "metadata": {
        "id": "uDMCVviyVo0r"
      }
    },
    {
      "cell_type": "code",
      "source": [
        "pipe = make_pipeline(SelectKBest(score_func=f_regression), StandardScaler(), LinearRegression())"
      ],
      "metadata": {
        "id": "zZHxxv1AL4dl"
      },
      "execution_count": null,
      "outputs": []
    },
    {
      "cell_type": "code",
      "source": [
        "pipe.fit(X_train, y_train)"
      ],
      "metadata": {
        "colab": {
          "base_uri": "https://localhost:8080/",
          "height": 161
        },
        "id": "ctqKrLRYL4bQ",
        "outputId": "1c196e03-17d2-4005-df87-4b7997f30eb5"
      },
      "execution_count": null,
      "outputs": [
        {
          "output_type": "execute_result",
          "data": {
            "text/plain": [
              "Pipeline(steps=[('selectkbest',\n",
              "                 SelectKBest(score_func=<function f_regression at 0x7d15177af250>)),\n",
              "                ('standardscaler', StandardScaler()),\n",
              "                ('linearregression', LinearRegression())])"
            ],
            "text/html": [
              "<style>#sk-container-id-1 {color: black;}#sk-container-id-1 pre{padding: 0;}#sk-container-id-1 div.sk-toggleable {background-color: white;}#sk-container-id-1 label.sk-toggleable__label {cursor: pointer;display: block;width: 100%;margin-bottom: 0;padding: 0.3em;box-sizing: border-box;text-align: center;}#sk-container-id-1 label.sk-toggleable__label-arrow:before {content: \"▸\";float: left;margin-right: 0.25em;color: #696969;}#sk-container-id-1 label.sk-toggleable__label-arrow:hover:before {color: black;}#sk-container-id-1 div.sk-estimator:hover label.sk-toggleable__label-arrow:before {color: black;}#sk-container-id-1 div.sk-toggleable__content {max-height: 0;max-width: 0;overflow: hidden;text-align: left;background-color: #f0f8ff;}#sk-container-id-1 div.sk-toggleable__content pre {margin: 0.2em;color: black;border-radius: 0.25em;background-color: #f0f8ff;}#sk-container-id-1 input.sk-toggleable__control:checked~div.sk-toggleable__content {max-height: 200px;max-width: 100%;overflow: auto;}#sk-container-id-1 input.sk-toggleable__control:checked~label.sk-toggleable__label-arrow:before {content: \"▾\";}#sk-container-id-1 div.sk-estimator input.sk-toggleable__control:checked~label.sk-toggleable__label {background-color: #d4ebff;}#sk-container-id-1 div.sk-label input.sk-toggleable__control:checked~label.sk-toggleable__label {background-color: #d4ebff;}#sk-container-id-1 input.sk-hidden--visually {border: 0;clip: rect(1px 1px 1px 1px);clip: rect(1px, 1px, 1px, 1px);height: 1px;margin: -1px;overflow: hidden;padding: 0;position: absolute;width: 1px;}#sk-container-id-1 div.sk-estimator {font-family: monospace;background-color: #f0f8ff;border: 1px dotted black;border-radius: 0.25em;box-sizing: border-box;margin-bottom: 0.5em;}#sk-container-id-1 div.sk-estimator:hover {background-color: #d4ebff;}#sk-container-id-1 div.sk-parallel-item::after {content: \"\";width: 100%;border-bottom: 1px solid gray;flex-grow: 1;}#sk-container-id-1 div.sk-label:hover label.sk-toggleable__label {background-color: #d4ebff;}#sk-container-id-1 div.sk-serial::before {content: \"\";position: absolute;border-left: 1px solid gray;box-sizing: border-box;top: 0;bottom: 0;left: 50%;z-index: 0;}#sk-container-id-1 div.sk-serial {display: flex;flex-direction: column;align-items: center;background-color: white;padding-right: 0.2em;padding-left: 0.2em;position: relative;}#sk-container-id-1 div.sk-item {position: relative;z-index: 1;}#sk-container-id-1 div.sk-parallel {display: flex;align-items: stretch;justify-content: center;background-color: white;position: relative;}#sk-container-id-1 div.sk-item::before, #sk-container-id-1 div.sk-parallel-item::before {content: \"\";position: absolute;border-left: 1px solid gray;box-sizing: border-box;top: 0;bottom: 0;left: 50%;z-index: -1;}#sk-container-id-1 div.sk-parallel-item {display: flex;flex-direction: column;z-index: 1;position: relative;background-color: white;}#sk-container-id-1 div.sk-parallel-item:first-child::after {align-self: flex-end;width: 50%;}#sk-container-id-1 div.sk-parallel-item:last-child::after {align-self: flex-start;width: 50%;}#sk-container-id-1 div.sk-parallel-item:only-child::after {width: 0;}#sk-container-id-1 div.sk-dashed-wrapped {border: 1px dashed gray;margin: 0 0.4em 0.5em 0.4em;box-sizing: border-box;padding-bottom: 0.4em;background-color: white;}#sk-container-id-1 div.sk-label label {font-family: monospace;font-weight: bold;display: inline-block;line-height: 1.2em;}#sk-container-id-1 div.sk-label-container {text-align: center;}#sk-container-id-1 div.sk-container {/* jupyter's `normalize.less` sets `[hidden] { display: none; }` but bootstrap.min.css set `[hidden] { display: none !important; }` so we also need the `!important` here to be able to override the default hidden behavior on the sphinx rendered scikit-learn.org. See: https://github.com/scikit-learn/scikit-learn/issues/21755 */display: inline-block !important;position: relative;}#sk-container-id-1 div.sk-text-repr-fallback {display: none;}</style><div id=\"sk-container-id-1\" class=\"sk-top-container\"><div class=\"sk-text-repr-fallback\"><pre>Pipeline(steps=[(&#x27;selectkbest&#x27;,\n",
              "                 SelectKBest(score_func=&lt;function f_regression at 0x7d15177af250&gt;)),\n",
              "                (&#x27;standardscaler&#x27;, StandardScaler()),\n",
              "                (&#x27;linearregression&#x27;, LinearRegression())])</pre><b>In a Jupyter environment, please rerun this cell to show the HTML representation or trust the notebook. <br />On GitHub, the HTML representation is unable to render, please try loading this page with nbviewer.org.</b></div><div class=\"sk-container\" hidden><div class=\"sk-item sk-dashed-wrapped\"><div class=\"sk-label-container\"><div class=\"sk-label sk-toggleable\"><input class=\"sk-toggleable__control sk-hidden--visually\" id=\"sk-estimator-id-1\" type=\"checkbox\" ><label for=\"sk-estimator-id-1\" class=\"sk-toggleable__label sk-toggleable__label-arrow\">Pipeline</label><div class=\"sk-toggleable__content\"><pre>Pipeline(steps=[(&#x27;selectkbest&#x27;,\n",
              "                 SelectKBest(score_func=&lt;function f_regression at 0x7d15177af250&gt;)),\n",
              "                (&#x27;standardscaler&#x27;, StandardScaler()),\n",
              "                (&#x27;linearregression&#x27;, LinearRegression())])</pre></div></div></div><div class=\"sk-serial\"><div class=\"sk-item\"><div class=\"sk-estimator sk-toggleable\"><input class=\"sk-toggleable__control sk-hidden--visually\" id=\"sk-estimator-id-2\" type=\"checkbox\" ><label for=\"sk-estimator-id-2\" class=\"sk-toggleable__label sk-toggleable__label-arrow\">SelectKBest</label><div class=\"sk-toggleable__content\"><pre>SelectKBest(score_func=&lt;function f_regression at 0x7d15177af250&gt;)</pre></div></div></div><div class=\"sk-item\"><div class=\"sk-estimator sk-toggleable\"><input class=\"sk-toggleable__control sk-hidden--visually\" id=\"sk-estimator-id-3\" type=\"checkbox\" ><label for=\"sk-estimator-id-3\" class=\"sk-toggleable__label sk-toggleable__label-arrow\">StandardScaler</label><div class=\"sk-toggleable__content\"><pre>StandardScaler()</pre></div></div></div><div class=\"sk-item\"><div class=\"sk-estimator sk-toggleable\"><input class=\"sk-toggleable__control sk-hidden--visually\" id=\"sk-estimator-id-4\" type=\"checkbox\" ><label for=\"sk-estimator-id-4\" class=\"sk-toggleable__label sk-toggleable__label-arrow\">LinearRegression</label><div class=\"sk-toggleable__content\"><pre>LinearRegression()</pre></div></div></div></div></div></div></div>"
            ]
          },
          "metadata": {},
          "execution_count": 7
        }
      ]
    },
    {
      "cell_type": "code",
      "source": [
        "y_tr_pred = pipe.predict(X_train)\n",
        "y_te_pred = pipe.predict(X_test)"
      ],
      "metadata": {
        "id": "pnJumnsQL4ZO"
      },
      "execution_count": null,
      "outputs": []
    },
    {
      "cell_type": "code",
      "source": [
        "k = [k+1 for k in range(len(X_train.columns))]\n",
        "grid_params = {'selectkbest__k': k}"
      ],
      "metadata": {
        "id": "rXXQUYwyUaWx"
      },
      "execution_count": null,
      "outputs": []
    },
    {
      "cell_type": "code",
      "source": [
        "lr_grid_cv = GridSearchCV(pipe, param_grid=grid_params, cv=5, n_jobs=-1)"
      ],
      "metadata": {
        "id": "BTexZRNfUMsx"
      },
      "execution_count": null,
      "outputs": []
    },
    {
      "cell_type": "code",
      "source": [
        "lr_grid_cv.fit(X_train, y_train)"
      ],
      "metadata": {
        "colab": {
          "base_uri": "https://localhost:8080/",
          "height": 187
        },
        "id": "JeXkMQ3CUN-Z",
        "outputId": "438e474f-ed32-454e-f7e6-f4614002df2f"
      },
      "execution_count": null,
      "outputs": [
        {
          "output_type": "execute_result",
          "data": {
            "text/plain": [
              "GridSearchCV(cv=5,\n",
              "             estimator=Pipeline(steps=[('selectkbest',\n",
              "                                        SelectKBest(score_func=<function f_regression at 0x7d15177af250>)),\n",
              "                                       ('standardscaler', StandardScaler()),\n",
              "                                       ('linearregression',\n",
              "                                        LinearRegression())]),\n",
              "             n_jobs=-1,\n",
              "             param_grid={'selectkbest__k': [1, 2, 3, 4, 5, 6, 7, 8, 9, 10, 11,\n",
              "                                            12, 13, 14, 15, 16, 17, 18, 19, 20,\n",
              "                                            21, 22, 23, 24]})"
            ],
            "text/html": [
              "<style>#sk-container-id-2 {color: black;}#sk-container-id-2 pre{padding: 0;}#sk-container-id-2 div.sk-toggleable {background-color: white;}#sk-container-id-2 label.sk-toggleable__label {cursor: pointer;display: block;width: 100%;margin-bottom: 0;padding: 0.3em;box-sizing: border-box;text-align: center;}#sk-container-id-2 label.sk-toggleable__label-arrow:before {content: \"▸\";float: left;margin-right: 0.25em;color: #696969;}#sk-container-id-2 label.sk-toggleable__label-arrow:hover:before {color: black;}#sk-container-id-2 div.sk-estimator:hover label.sk-toggleable__label-arrow:before {color: black;}#sk-container-id-2 div.sk-toggleable__content {max-height: 0;max-width: 0;overflow: hidden;text-align: left;background-color: #f0f8ff;}#sk-container-id-2 div.sk-toggleable__content pre {margin: 0.2em;color: black;border-radius: 0.25em;background-color: #f0f8ff;}#sk-container-id-2 input.sk-toggleable__control:checked~div.sk-toggleable__content {max-height: 200px;max-width: 100%;overflow: auto;}#sk-container-id-2 input.sk-toggleable__control:checked~label.sk-toggleable__label-arrow:before {content: \"▾\";}#sk-container-id-2 div.sk-estimator input.sk-toggleable__control:checked~label.sk-toggleable__label {background-color: #d4ebff;}#sk-container-id-2 div.sk-label input.sk-toggleable__control:checked~label.sk-toggleable__label {background-color: #d4ebff;}#sk-container-id-2 input.sk-hidden--visually {border: 0;clip: rect(1px 1px 1px 1px);clip: rect(1px, 1px, 1px, 1px);height: 1px;margin: -1px;overflow: hidden;padding: 0;position: absolute;width: 1px;}#sk-container-id-2 div.sk-estimator {font-family: monospace;background-color: #f0f8ff;border: 1px dotted black;border-radius: 0.25em;box-sizing: border-box;margin-bottom: 0.5em;}#sk-container-id-2 div.sk-estimator:hover {background-color: #d4ebff;}#sk-container-id-2 div.sk-parallel-item::after {content: \"\";width: 100%;border-bottom: 1px solid gray;flex-grow: 1;}#sk-container-id-2 div.sk-label:hover label.sk-toggleable__label {background-color: #d4ebff;}#sk-container-id-2 div.sk-serial::before {content: \"\";position: absolute;border-left: 1px solid gray;box-sizing: border-box;top: 0;bottom: 0;left: 50%;z-index: 0;}#sk-container-id-2 div.sk-serial {display: flex;flex-direction: column;align-items: center;background-color: white;padding-right: 0.2em;padding-left: 0.2em;position: relative;}#sk-container-id-2 div.sk-item {position: relative;z-index: 1;}#sk-container-id-2 div.sk-parallel {display: flex;align-items: stretch;justify-content: center;background-color: white;position: relative;}#sk-container-id-2 div.sk-item::before, #sk-container-id-2 div.sk-parallel-item::before {content: \"\";position: absolute;border-left: 1px solid gray;box-sizing: border-box;top: 0;bottom: 0;left: 50%;z-index: -1;}#sk-container-id-2 div.sk-parallel-item {display: flex;flex-direction: column;z-index: 1;position: relative;background-color: white;}#sk-container-id-2 div.sk-parallel-item:first-child::after {align-self: flex-end;width: 50%;}#sk-container-id-2 div.sk-parallel-item:last-child::after {align-self: flex-start;width: 50%;}#sk-container-id-2 div.sk-parallel-item:only-child::after {width: 0;}#sk-container-id-2 div.sk-dashed-wrapped {border: 1px dashed gray;margin: 0 0.4em 0.5em 0.4em;box-sizing: border-box;padding-bottom: 0.4em;background-color: white;}#sk-container-id-2 div.sk-label label {font-family: monospace;font-weight: bold;display: inline-block;line-height: 1.2em;}#sk-container-id-2 div.sk-label-container {text-align: center;}#sk-container-id-2 div.sk-container {/* jupyter's `normalize.less` sets `[hidden] { display: none; }` but bootstrap.min.css set `[hidden] { display: none !important; }` so we also need the `!important` here to be able to override the default hidden behavior on the sphinx rendered scikit-learn.org. See: https://github.com/scikit-learn/scikit-learn/issues/21755 */display: inline-block !important;position: relative;}#sk-container-id-2 div.sk-text-repr-fallback {display: none;}</style><div id=\"sk-container-id-2\" class=\"sk-top-container\"><div class=\"sk-text-repr-fallback\"><pre>GridSearchCV(cv=5,\n",
              "             estimator=Pipeline(steps=[(&#x27;selectkbest&#x27;,\n",
              "                                        SelectKBest(score_func=&lt;function f_regression at 0x7d15177af250&gt;)),\n",
              "                                       (&#x27;standardscaler&#x27;, StandardScaler()),\n",
              "                                       (&#x27;linearregression&#x27;,\n",
              "                                        LinearRegression())]),\n",
              "             n_jobs=-1,\n",
              "             param_grid={&#x27;selectkbest__k&#x27;: [1, 2, 3, 4, 5, 6, 7, 8, 9, 10, 11,\n",
              "                                            12, 13, 14, 15, 16, 17, 18, 19, 20,\n",
              "                                            21, 22, 23, 24]})</pre><b>In a Jupyter environment, please rerun this cell to show the HTML representation or trust the notebook. <br />On GitHub, the HTML representation is unable to render, please try loading this page with nbviewer.org.</b></div><div class=\"sk-container\" hidden><div class=\"sk-item sk-dashed-wrapped\"><div class=\"sk-label-container\"><div class=\"sk-label sk-toggleable\"><input class=\"sk-toggleable__control sk-hidden--visually\" id=\"sk-estimator-id-5\" type=\"checkbox\" ><label for=\"sk-estimator-id-5\" class=\"sk-toggleable__label sk-toggleable__label-arrow\">GridSearchCV</label><div class=\"sk-toggleable__content\"><pre>GridSearchCV(cv=5,\n",
              "             estimator=Pipeline(steps=[(&#x27;selectkbest&#x27;,\n",
              "                                        SelectKBest(score_func=&lt;function f_regression at 0x7d15177af250&gt;)),\n",
              "                                       (&#x27;standardscaler&#x27;, StandardScaler()),\n",
              "                                       (&#x27;linearregression&#x27;,\n",
              "                                        LinearRegression())]),\n",
              "             n_jobs=-1,\n",
              "             param_grid={&#x27;selectkbest__k&#x27;: [1, 2, 3, 4, 5, 6, 7, 8, 9, 10, 11,\n",
              "                                            12, 13, 14, 15, 16, 17, 18, 19, 20,\n",
              "                                            21, 22, 23, 24]})</pre></div></div></div><div class=\"sk-parallel\"><div class=\"sk-parallel-item\"><div class=\"sk-item\"><div class=\"sk-label-container\"><div class=\"sk-label sk-toggleable\"><input class=\"sk-toggleable__control sk-hidden--visually\" id=\"sk-estimator-id-6\" type=\"checkbox\" ><label for=\"sk-estimator-id-6\" class=\"sk-toggleable__label sk-toggleable__label-arrow\">estimator: Pipeline</label><div class=\"sk-toggleable__content\"><pre>Pipeline(steps=[(&#x27;selectkbest&#x27;,\n",
              "                 SelectKBest(score_func=&lt;function f_regression at 0x7d15177af250&gt;)),\n",
              "                (&#x27;standardscaler&#x27;, StandardScaler()),\n",
              "                (&#x27;linearregression&#x27;, LinearRegression())])</pre></div></div></div><div class=\"sk-serial\"><div class=\"sk-item\"><div class=\"sk-serial\"><div class=\"sk-item\"><div class=\"sk-estimator sk-toggleable\"><input class=\"sk-toggleable__control sk-hidden--visually\" id=\"sk-estimator-id-7\" type=\"checkbox\" ><label for=\"sk-estimator-id-7\" class=\"sk-toggleable__label sk-toggleable__label-arrow\">SelectKBest</label><div class=\"sk-toggleable__content\"><pre>SelectKBest(score_func=&lt;function f_regression at 0x7d15177af250&gt;)</pre></div></div></div><div class=\"sk-item\"><div class=\"sk-estimator sk-toggleable\"><input class=\"sk-toggleable__control sk-hidden--visually\" id=\"sk-estimator-id-8\" type=\"checkbox\" ><label for=\"sk-estimator-id-8\" class=\"sk-toggleable__label sk-toggleable__label-arrow\">StandardScaler</label><div class=\"sk-toggleable__content\"><pre>StandardScaler()</pre></div></div></div><div class=\"sk-item\"><div class=\"sk-estimator sk-toggleable\"><input class=\"sk-toggleable__control sk-hidden--visually\" id=\"sk-estimator-id-9\" type=\"checkbox\" ><label for=\"sk-estimator-id-9\" class=\"sk-toggleable__label sk-toggleable__label-arrow\">LinearRegression</label><div class=\"sk-toggleable__content\"><pre>LinearRegression()</pre></div></div></div></div></div></div></div></div></div></div></div></div>"
            ]
          },
          "metadata": {},
          "execution_count": 11
        }
      ]
    },
    {
      "cell_type": "code",
      "source": [
        "score_mean = lr_grid_cv.cv_results_['mean_test_score']\n",
        "score_std = lr_grid_cv.cv_results_['std_test_score']\n",
        "cv_k = [k for k in lr_grid_cv.cv_results_['param_selectkbest__k']]"
      ],
      "metadata": {
        "id": "sWHHLTleU1fp"
      },
      "execution_count": null,
      "outputs": []
    },
    {
      "cell_type": "code",
      "source": [
        "lr_grid_cv.best_params_"
      ],
      "metadata": {
        "colab": {
          "base_uri": "https://localhost:8080/"
        },
        "id": "P86zUaQZURQk",
        "outputId": "91c46fe4-3e0e-4ce3-d2f4-91646a2eeb7d"
      },
      "execution_count": null,
      "outputs": [
        {
          "output_type": "execute_result",
          "data": {
            "text/plain": [
              "{'selectkbest__k': 24}"
            ]
          },
          "metadata": {},
          "execution_count": 13
        }
      ]
    },
    {
      "cell_type": "code",
      "source": [
        "best_k = lr_grid_cv.best_params_['selectkbest__k']\n",
        "plt.subplots(figsize=(10, 5))\n",
        "plt.errorbar(cv_k, score_mean, yerr=score_std)\n",
        "plt.axvline(x=best_k, c='r', ls='--', alpha=.5)\n",
        "plt.xlabel('k')\n",
        "plt.ylabel('CV score (r-squared)')\n",
        "plt.title('Pipeline mean CV score (error bars +/- 1sd)');"
      ],
      "metadata": {
        "colab": {
          "base_uri": "https://localhost:8080/",
          "height": 487
        },
        "id": "rf54n9hKU3ok",
        "outputId": "1f8aa6c8-0d05-4da5-e69f-32abe6ea756c"
      },
      "execution_count": null,
      "outputs": [
        {
          "output_type": "display_data",
          "data": {
            "text/plain": [
              "<Figure size 1000x500 with 1 Axes>"
            ],
            "image/png": "[encoded data removed]"
          },
          "metadata": {}
        }
      ]
    },
    {
      "cell_type": "code",
      "source": [
        "selected = lr_grid_cv.best_estimator_.named_steps.selectkbest.get_support()"
      ],
      "metadata": {
        "id": "k_YXf4flVLM4"
      },
      "execution_count": null,
      "outputs": []
    },
    {
      "cell_type": "code",
      "source": [
        "coefs = lr_grid_cv.best_estimator_.named_steps.linearregression.coef_\n",
        "features = X_train.columns[lr_grid_cv.best_estimator_.named_steps.selectkbest.get_support()]\n",
        "pd.Series(coefs, index=features).sort_values(ascending=False)"
      ],
      "metadata": {
        "colab": {
          "base_uri": "https://localhost:8080/",
          "height": 837
        },
        "id": "YuXBXn4IVN1g",
        "outputId": "a9d2bb83-f132-49a7-96e9-2afcac6576e7"
      },
      "execution_count": null,
      "outputs": [
        {
          "output_type": "execute_result",
          "data": {
            "text/plain": [
              "land_area_with_electricity_access             21903.816819\n",
              "electricity_fossil_fuels_output               17482.547975\n",
              "energy_consumption_per_capita                 10608.278732\n",
              "renewable_energy_share_primary                 7838.315485\n",
              "electricity_fossil_fuels_consumption_ratio     6990.132609\n",
              "clean_fuels_access_%                           6578.941460\n",
              "density_category                               5573.026477\n",
              "lat                                            4550.778616\n",
              "quadrant                                       3555.758986\n",
              "electricity_nuclear_output                     2471.485949\n",
              "electricity_renewables_output                  2200.104861\n",
              "electricity_low_carbon                          629.655967\n",
              "lon                                             407.465413\n",
              "land_area                                       232.735710\n",
              "gdp_growth                                     -752.023661\n",
              "density                                        -783.028620\n",
              "land_area_category                            -2221.654868\n",
              "renewable_energy_share_final                  -2254.870610\n",
              "electricity_access_%                          -2844.442865\n",
              "co2_emissions_consumption_ratio               -4186.978747\n",
              "energy_usage_per_gdp                          -5859.949179\n",
              "electricity_renewables_consumption_ratio      -7242.472655\n",
              "land_area_with_clean_fuels_access            -16913.098065\n",
              "co2_emissions_per_capita                     -20209.286029\n",
              "dtype: float64"
            ],
            "text/html": [
              "<div>\n",
              "<style scoped>\n",
              "    .dataframe tbody tr th:only-of-type {\n",
              "        vertical-align: middle;\n",
              "    }\n",
              "\n",
              "    .dataframe tbody tr th {\n",
              "        vertical-align: top;\n",
              "    }\n",
              "\n",
              "    .dataframe thead th {\n",
              "        text-align: right;\n",
              "    }\n",
              "</style>\n",
              "<table border=\"1\" class=\"dataframe\">\n",
              "  <thead>\n",
              "    <tr style=\"text-align: right;\">\n",
              "      <th></th>\n",
              "      <th>0</th>\n",
              "    </tr>\n",
              "  </thead>\n",
              "  <tbody>\n",
              "    <tr>\n",
              "      <th>land_area_with_electricity_access</th>\n",
              "      <td>21903.816819</td>\n",
              "    </tr>\n",
              "    <tr>\n",
              "      <th>electricity_fossil_fuels_output</th>\n",
              "      <td>17482.547975</td>\n",
              "    </tr>\n",
              "    <tr>\n",
              "      <th>energy_consumption_per_capita</th>\n",
              "      <td>10608.278732</td>\n",
              "    </tr>\n",
              "    <tr>\n",
              "      <th>renewable_energy_share_primary</th>\n",
              "      <td>7838.315485</td>\n",
              "    </tr>\n",
              "    <tr>\n",
              "      <th>electricity_fossil_fuels_consumption_ratio</th>\n",
              "      <td>6990.132609</td>\n",
              "    </tr>\n",
              "    <tr>\n",
              "      <th>clean_fuels_access_%</th>\n",
              "      <td>6578.941460</td>\n",
              "    </tr>\n",
              "    <tr>\n",
              "      <th>density_category</th>\n",
              "      <td>5573.026477</td>\n",
              "    </tr>\n",
              "    <tr>\n",
              "      <th>lat</th>\n",
              "      <td>4550.778616</td>\n",
              "    </tr>\n",
              "    <tr>\n",
              "      <th>quadrant</th>\n",
              "      <td>3555.758986</td>\n",
              "    </tr>\n",
              "    <tr>\n",
              "      <th>electricity_nuclear_output</th>\n",
              "      <td>2471.485949</td>\n",
              "    </tr>\n",
              "    <tr>\n",
              "      <th>electricity_renewables_output</th>\n",
              "      <td>2200.104861</td>\n",
              "    </tr>\n",
              "    <tr>\n",
              "      <th>electricity_low_carbon</th>\n",
              "      <td>629.655967</td>\n",
              "    </tr>\n",
              "    <tr>\n",
              "      <th>lon</th>\n",
              "      <td>407.465413</td>\n",
              "    </tr>\n",
              "    <tr>\n",
              "      <th>land_area</th>\n",
              "      <td>232.735710</td>\n",
              "    </tr>\n",
              "    <tr>\n",
              "      <th>gdp_growth</th>\n",
              "      <td>-752.023661</td>\n",
              "    </tr>\n",
              "    <tr>\n",
              "      <th>density</th>\n",
              "      <td>-783.028620</td>\n",
              "    </tr>\n",
              "    <tr>\n",
              "      <th>land_area_category</th>\n",
              "      <td>-2221.654868</td>\n",
              "    </tr>\n",
              "    <tr>\n",
              "      <th>renewable_energy_share_final</th>\n",
              "      <td>-2254.870610</td>\n",
              "    </tr>\n",
              "    <tr>\n",
              "      <th>electricity_access_%</th>\n",
              "      <td>-2844.442865</td>\n",
              "    </tr>\n",
              "    <tr>\n",
              "      <th>co2_emissions_consumption_ratio</th>\n",
              "      <td>-4186.978747</td>\n",
              "    </tr>\n",
              "    <tr>\n",
              "      <th>energy_usage_per_gdp</th>\n",
              "      <td>-5859.949179</td>\n",
              "    </tr>\n",
              "    <tr>\n",
              "      <th>electricity_renewables_consumption_ratio</th>\n",
              "      <td>-7242.472655</td>\n",
              "    </tr>\n",
              "    <tr>\n",
              "      <th>land_area_with_clean_fuels_access</th>\n",
              "      <td>-16913.098065</td>\n",
              "    </tr>\n",
              "    <tr>\n",
              "      <th>co2_emissions_per_capita</th>\n",
              "      <td>-20209.286029</td>\n",
              "    </tr>\n",
              "  </tbody>\n",
              "</table>\n",
              "</div><br><label><b>dtype:</b> float64</label>"
            ]
          },
          "metadata": {},
          "execution_count": 16
        }
      ]
    },
    {
      "cell_type": "markdown",
      "source": [
        "Strongest coefs: <br>\n",
        "land_area_with_electricity_access and electricity_fossil_fuels_output\t(+) <br>\n",
        "land_area_with_clean_fuels_access and co2_emissions_per_capita (-)"
      ],
      "metadata": {
        "id": "Qh5qPM3sf9PV"
      }
    },
    {
      "cell_type": "code",
      "source": [
        "lr_neg_mae = cross_validate(lr_grid_cv.best_estimator_, X_train, y_train,\n",
        "                            scoring='neg_mean_absolute_error', cv=5, n_jobs=-1)"
      ],
      "metadata": {
        "id": "VdQM7unEZLeg"
      },
      "execution_count": null,
      "outputs": []
    },
    {
      "cell_type": "code",
      "source": [
        "lr_mae_mean = np.mean(-1 * lr_neg_mae['test_score'])\n",
        "lr_mae_std = np.std(-1 * lr_neg_mae['test_score'])\n",
        "lr_mae_mean, lr_mae_std"
      ],
      "metadata": {
        "colab": {
          "base_uri": "https://localhost:8080/"
        },
        "id": "0IOBofSzZMjd",
        "outputId": "ee9ebbff-e42a-4052-9c2b-1bb965f1bfbf"
      },
      "execution_count": null,
      "outputs": [
        {
          "output_type": "execute_result",
          "data": {
            "text/plain": [
              "(8532.781593815358, 666.8452615444498)"
            ]
          },
          "metadata": {},
          "execution_count": 18
        }
      ]
    },
    {
      "cell_type": "code",
      "source": [
        "mean_absolute_error(y_test, lr_grid_cv.best_estimator_.predict(X_test))"
      ],
      "metadata": {
        "colab": {
          "base_uri": "https://localhost:8080/"
        },
        "id": "quewHRPHZNqK",
        "outputId": "131e9e40-2cbf-4bd7-8008-b164832ed581"
      },
      "execution_count": null,
      "outputs": [
        {
          "output_type": "execute_result",
          "data": {
            "text/plain": [
              "9039.41470703813"
            ]
          },
          "metadata": {},
          "execution_count": 19
        }
      ]
    },
    {
      "cell_type": "markdown",
      "source": [
        "Now let's try a random forest pipeline."
      ],
      "metadata": {
        "id": "POWCWu3gZ0Tl"
      }
    },
    {
      "cell_type": "code",
      "source": [
        "RF_pipe = make_pipeline(\n",
        "    SimpleImputer(strategy='median'),\n",
        "    StandardScaler(),\n",
        "    RandomForestRegressor(random_state=47)\n",
        ")\n",
        "\n",
        "rf_default_cv_results = cross_validate(RF_pipe, X_train, y_train, cv=5)\n",
        "rf_cv_scores = rf_default_cv_results['test_score']\n",
        "\n",
        "n_est = [int(n) for n in np.logspace(start=1, stop=3, num=20)]\n",
        "grid_params = {\n",
        "    'randomforestregressor__n_estimators': n_est,\n",
        "    'standardscaler': [StandardScaler(), None],\n",
        "    'simpleimputer__strategy': ['mean', 'median']\n",
        "}\n",
        "\n",
        "rf_grid_cv = GridSearchCV(RF_pipe, param_grid=grid_params, cv=5, n_jobs=-1)\n",
        "rf_grid_cv.fit(X_train, y_train)"
      ],
      "metadata": {
        "colab": {
          "base_uri": "https://localhost:8080/",
          "height": 187
        },
        "id": "6COfvR3jZ3yk",
        "outputId": "5ffbb714-362b-402b-c58b-e87ed4dd8df7"
      },
      "execution_count": null,
      "outputs": [
        {
          "output_type": "execute_result",
          "data": {
            "text/plain": [
              "GridSearchCV(cv=5,\n",
              "             estimator=Pipeline(steps=[('simpleimputer',\n",
              "                                        SimpleImputer(strategy='median')),\n",
              "                                       ('standardscaler', StandardScaler()),\n",
              "                                       ('randomforestregressor',\n",
              "                                        RandomForestRegressor(random_state=47))]),\n",
              "             n_jobs=-1,\n",
              "             param_grid={'randomforestregressor__n_estimators': [10, 12, 16, 20,\n",
              "                                                                 26, 33, 42, 54,\n",
              "                                                                 69, 88, 112,\n",
              "                                                                 143, 183, 233,\n",
              "                                                                 297, 379, 483,\n",
              "                                                                 615, 784,\n",
              "                                                                 1000],\n",
              "                         'simpleimputer__strategy': ['mean', 'median'],\n",
              "                         'standardscaler': [StandardScaler(), None]})"
            ],
            "text/html": [
              "<style>#sk-container-id-3 {color: black;}#sk-container-id-3 pre{padding: 0;}#sk-container-id-3 div.sk-toggleable {background-color: white;}#sk-container-id-3 label.sk-toggleable__label {cursor: pointer;display: block;width: 100%;margin-bottom: 0;padding: 0.3em;box-sizing: border-box;text-align: center;}#sk-container-id-3 label.sk-toggleable__label-arrow:before {content: \"▸\";float: left;margin-right: 0.25em;color: #696969;}#sk-container-id-3 label.sk-toggleable__label-arrow:hover:before {color: black;}#sk-container-id-3 div.sk-estimator:hover label.sk-toggleable__label-arrow:before {color: black;}#sk-container-id-3 div.sk-toggleable__content {max-height: 0;max-width: 0;overflow: hidden;text-align: left;background-color: #f0f8ff;}#sk-container-id-3 div.sk-toggleable__content pre {margin: 0.2em;color: black;border-radius: 0.25em;background-color: #f0f8ff;}#sk-container-id-3 input.sk-toggleable__control:checked~div.sk-toggleable__content {max-height: 200px;max-width: 100%;overflow: auto;}#sk-container-id-3 input.sk-toggleable__control:checked~label.sk-toggleable__label-arrow:before {content: \"▾\";}#sk-container-id-3 div.sk-estimator input.sk-toggleable__control:checked~label.sk-toggleable__label {background-color: #d4ebff;}#sk-container-id-3 div.sk-label input.sk-toggleable__control:checked~label.sk-toggleable__label {background-color: #d4ebff;}#sk-container-id-3 input.sk-hidden--visually {border: 0;clip: rect(1px 1px 1px 1px);clip: rect(1px, 1px, 1px, 1px);height: 1px;margin: -1px;overflow: hidden;padding: 0;position: absolute;width: 1px;}#sk-container-id-3 div.sk-estimator {font-family: monospace;background-color: #f0f8ff;border: 1px dotted black;border-radius: 0.25em;box-sizing: border-box;margin-bottom: 0.5em;}#sk-container-id-3 div.sk-estimator:hover {background-color: #d4ebff;}#sk-container-id-3 div.sk-parallel-item::after {content: \"\";width: 100%;border-bottom: 1px solid gray;flex-grow: 1;}#sk-container-id-3 div.sk-label:hover label.sk-toggleable__label {background-color: #d4ebff;}#sk-container-id-3 div.sk-serial::before {content: \"\";position: absolute;border-left: 1px solid gray;box-sizing: border-box;top: 0;bottom: 0;left: 50%;z-index: 0;}#sk-container-id-3 div.sk-serial {display: flex;flex-direction: column;align-items: center;background-color: white;padding-right: 0.2em;padding-left: 0.2em;position: relative;}#sk-container-id-3 div.sk-item {position: relative;z-index: 1;}#sk-container-id-3 div.sk-parallel {display: flex;align-items: stretch;justify-content: center;background-color: white;position: relative;}#sk-container-id-3 div.sk-item::before, #sk-container-id-3 div.sk-parallel-item::before {content: \"\";position: absolute;border-left: 1px solid gray;box-sizing: border-box;top: 0;bottom: 0;left: 50%;z-index: -1;}#sk-container-id-3 div.sk-parallel-item {display: flex;flex-direction: column;z-index: 1;position: relative;background-color: white;}#sk-container-id-3 div.sk-parallel-item:first-child::after {align-self: flex-end;width: 50%;}#sk-container-id-3 div.sk-parallel-item:last-child::after {align-self: flex-start;width: 50%;}#sk-container-id-3 div.sk-parallel-item:only-child::after {width: 0;}#sk-container-id-3 div.sk-dashed-wrapped {border: 1px dashed gray;margin: 0 0.4em 0.5em 0.4em;box-sizing: border-box;padding-bottom: 0.4em;background-color: white;}#sk-container-id-3 div.sk-label label {font-family: monospace;font-weight: bold;display: inline-block;line-height: 1.2em;}#sk-container-id-3 div.sk-label-container {text-align: center;}#sk-container-id-3 div.sk-container {/* jupyter's `normalize.less` sets `[hidden] { display: none; }` but bootstrap.min.css set `[hidden] { display: none !important; }` so we also need the `!important` here to be able to override the default hidden behavior on the sphinx rendered scikit-learn.org. See: https://github.com/scikit-learn/scikit-learn/issues/21755 */display: inline-block !important;position: relative;}#sk-container-id-3 div.sk-text-repr-fallback {display: none;}</style><div id=\"sk-container-id-3\" class=\"sk-top-container\"><div class=\"sk-text-repr-fallback\"><pre>GridSearchCV(cv=5,\n",
              "             estimator=Pipeline(steps=[(&#x27;simpleimputer&#x27;,\n",
              "                                        SimpleImputer(strategy=&#x27;median&#x27;)),\n",
              "                                       (&#x27;standardscaler&#x27;, StandardScaler()),\n",
              "                                       (&#x27;randomforestregressor&#x27;,\n",
              "                                        RandomForestRegressor(random_state=47))]),\n",
              "             n_jobs=-1,\n",
              "             param_grid={&#x27;randomforestregressor__n_estimators&#x27;: [10, 12, 16, 20,\n",
              "                                                                 26, 33, 42, 54,\n",
              "                                                                 69, 88, 112,\n",
              "                                                                 143, 183, 233,\n",
              "                                                                 297, 379, 483,\n",
              "                                                                 615, 784,\n",
              "                                                                 1000],\n",
              "                         &#x27;simpleimputer__strategy&#x27;: [&#x27;mean&#x27;, &#x27;median&#x27;],\n",
              "                         &#x27;standardscaler&#x27;: [StandardScaler(), None]})</pre><b>In a Jupyter environment, please rerun this cell to show the HTML representation or trust the notebook. <br />On GitHub, the HTML representation is unable to render, please try loading this page with nbviewer.org.</b></div><div class=\"sk-container\" hidden><div class=\"sk-item sk-dashed-wrapped\"><div class=\"sk-label-container\"><div class=\"sk-label sk-toggleable\"><input class=\"sk-toggleable__control sk-hidden--visually\" id=\"sk-estimator-id-10\" type=\"checkbox\" ><label for=\"sk-estimator-id-10\" class=\"sk-toggleable__label sk-toggleable__label-arrow\">GridSearchCV</label><div class=\"sk-toggleable__content\"><pre>GridSearchCV(cv=5,\n",
              "             estimator=Pipeline(steps=[(&#x27;simpleimputer&#x27;,\n",
              "                                        SimpleImputer(strategy=&#x27;median&#x27;)),\n",
              "                                       (&#x27;standardscaler&#x27;, StandardScaler()),\n",
              "                                       (&#x27;randomforestregressor&#x27;,\n",
              "                                        RandomForestRegressor(random_state=47))]),\n",
              "             n_jobs=-1,\n",
              "             param_grid={&#x27;randomforestregressor__n_estimators&#x27;: [10, 12, 16, 20,\n",
              "                                                                 26, 33, 42, 54,\n",
              "                                                                 69, 88, 112,\n",
              "                                                                 143, 183, 233,\n",
              "                                                                 297, 379, 483,\n",
              "                                                                 615, 784,\n",
              "                                                                 1000],\n",
              "                         &#x27;simpleimputer__strategy&#x27;: [&#x27;mean&#x27;, &#x27;median&#x27;],\n",
              "                         &#x27;standardscaler&#x27;: [StandardScaler(), None]})</pre></div></div></div><div class=\"sk-parallel\"><div class=\"sk-parallel-item\"><div class=\"sk-item\"><div class=\"sk-label-container\"><div class=\"sk-label sk-toggleable\"><input class=\"sk-toggleable__control sk-hidden--visually\" id=\"sk-estimator-id-11\" type=\"checkbox\" ><label for=\"sk-estimator-id-11\" class=\"sk-toggleable__label sk-toggleable__label-arrow\">estimator: Pipeline</label><div class=\"sk-toggleable__content\"><pre>Pipeline(steps=[(&#x27;simpleimputer&#x27;, SimpleImputer(strategy=&#x27;median&#x27;)),\n",
              "                (&#x27;standardscaler&#x27;, StandardScaler()),\n",
              "                (&#x27;randomforestregressor&#x27;,\n",
              "                 RandomForestRegressor(random_state=47))])</pre></div></div></div><div class=\"sk-serial\"><div class=\"sk-item\"><div class=\"sk-serial\"><div class=\"sk-item\"><div class=\"sk-estimator sk-toggleable\"><input class=\"sk-toggleable__control sk-hidden--visually\" id=\"sk-estimator-id-12\" type=\"checkbox\" ><label for=\"sk-estimator-id-12\" class=\"sk-toggleable__label sk-toggleable__label-arrow\">SimpleImputer</label><div class=\"sk-toggleable__content\"><pre>SimpleImputer(strategy=&#x27;median&#x27;)</pre></div></div></div><div class=\"sk-item\"><div class=\"sk-estimator sk-toggleable\"><input class=\"sk-toggleable__control sk-hidden--visually\" id=\"sk-estimator-id-13\" type=\"checkbox\" ><label for=\"sk-estimator-id-13\" class=\"sk-toggleable__label sk-toggleable__label-arrow\">StandardScaler</label><div class=\"sk-toggleable__content\"><pre>StandardScaler()</pre></div></div></div><div class=\"sk-item\"><div class=\"sk-estimator sk-toggleable\"><input class=\"sk-toggleable__control sk-hidden--visually\" id=\"sk-estimator-id-14\" type=\"checkbox\" ><label for=\"sk-estimator-id-14\" class=\"sk-toggleable__label sk-toggleable__label-arrow\">RandomForestRegressor</label><div class=\"sk-toggleable__content\"><pre>RandomForestRegressor(random_state=47)</pre></div></div></div></div></div></div></div></div></div></div></div></div>"
            ]
          },
          "metadata": {},
          "execution_count": 20
        }
      ]
    },
    {
      "cell_type": "code",
      "source": [
        "rf_grid_cv.best_params_"
      ],
      "metadata": {
        "id": "FLVaEckTfeHW",
        "colab": {
          "base_uri": "https://localhost:8080/"
        },
        "outputId": "25c3df90-59c4-4c9d-fde0-389bc2365fef"
      },
      "execution_count": null,
      "outputs": [
        {
          "output_type": "execute_result",
          "data": {
            "text/plain": [
              "{'randomforestregressor__n_estimators': 33,\n",
              " 'simpleimputer__strategy': 'mean',\n",
              " 'standardscaler': None}"
            ]
          },
          "metadata": {},
          "execution_count": 21
        }
      ]
    },
    {
      "cell_type": "code",
      "source": [
        "plt.subplots(figsize=(10, 5))\n",
        "imps = rf_grid_cv.best_estimator_.named_steps.randomforestregressor.feature_importances_\n",
        "rf_feat_imps = pd.Series(imps, index=X_train.columns)\n",
        "rf_feat_imps = rf_feat_imps.sort_values(ascending=False)\n",
        "rf_feat_imps.plot(kind='bar')\n",
        "plt.xlabel('Features')\n",
        "plt.ylabel('Importance')\n",
        "plt.title('Best Random Forest Regressor Feature Importances')\n",
        "plt.show()"
      ],
      "metadata": {
        "id": "pgM89KSjfnn2",
        "colab": {
          "base_uri": "https://localhost:8080/",
          "height": 765
        },
        "outputId": "c715170c-a767-4b5f-b02a-7da855ece8e5"
      },
      "execution_count": null,
      "outputs": [
        {
          "output_type": "display_data",
          "data": {
            "text/plain": [
              "<Figure size 1000x500 with 1 Axes>"
            ],
            "image/png": "[encoded data removed]"
          },
          "metadata": {}
        }
      ]
    },
    {
      "cell_type": "markdown",
      "source": [
        "Within RF, we see energy_consumption_per_capita as the strongest, and electricity_fossil_fuels_output shows up again as well."
      ],
      "metadata": {
        "id": "rCWAHmtAiO2u"
      }
    },
    {
      "cell_type": "code",
      "source": [
        "mean_absolute_error(y_test, lr_grid_cv.best_estimator_.predict(X_test))"
      ],
      "metadata": {
        "id": "KaDu3EfBjDnB",
        "colab": {
          "base_uri": "https://localhost:8080/"
        },
        "outputId": "cf4b13ad-a3a5-4546-a1da-c5728d216593"
      },
      "execution_count": null,
      "outputs": [
        {
          "output_type": "execute_result",
          "data": {
            "text/plain": [
              "9039.41470703813"
            ]
          },
          "metadata": {},
          "execution_count": 23
        }
      ]
    },
    {
      "cell_type": "code",
      "source": [
        "mean_squared_error(y_test, lr_grid_cv.best_estimator_.predict(X_test))"
      ],
      "metadata": {
        "id": "S6CjwvMsyIHL",
        "colab": {
          "base_uri": "https://localhost:8080/"
        },
        "outputId": "81237f5b-ec3b-4702-f1b8-f1d21716094a"
      },
      "execution_count": null,
      "outputs": [
        {
          "output_type": "execute_result",
          "data": {
            "text/plain": [
              "187465950.30501944"
            ]
          },
          "metadata": {},
          "execution_count": 24
        }
      ]
    },
    {
      "cell_type": "code",
      "source": [
        "r2_score(y_test, lr_grid_cv.best_estimator_.predict(X_test))"
      ],
      "metadata": {
        "id": "HN7AtBcByIEn",
        "colab": {
          "base_uri": "https://localhost:8080/"
        },
        "outputId": "b33d4237-6911-4d50-805e-9011a33c2907"
      },
      "execution_count": null,
      "outputs": [
        {
          "output_type": "execute_result",
          "data": {
            "text/plain": [
              "0.6757557080981518"
            ]
          },
          "metadata": {},
          "execution_count": 25
        }
      ]
    },
    {
      "cell_type": "code",
      "source": [
        "mean_absolute_error(y_test, rf_grid_cv.best_estimator_.predict(X_test))"
      ],
      "metadata": {
        "id": "Gb1Z7KNojEzI",
        "colab": {
          "base_uri": "https://localhost:8080/"
        },
        "outputId": "c8834304-8948-4662-9578-d9d741b8ab05"
      },
      "execution_count": null,
      "outputs": [
        {
          "output_type": "execute_result",
          "data": {
            "text/plain": [
              "3172.01549201781"
            ]
          },
          "metadata": {},
          "execution_count": 26
        }
      ]
    },
    {
      "cell_type": "code",
      "source": [
        "mean_squared_error(y_test, rf_grid_cv.best_estimator_.predict(X_test))"
      ],
      "metadata": {
        "id": "K-QzS5r4yI4D",
        "colab": {
          "base_uri": "https://localhost:8080/"
        },
        "outputId": "021f205c-82ef-4dda-ee65-1b9cb64aba00"
      },
      "execution_count": null,
      "outputs": [
        {
          "output_type": "execute_result",
          "data": {
            "text/plain": [
              "35868585.062049665"
            ]
          },
          "metadata": {},
          "execution_count": 27
        }
      ]
    },
    {
      "cell_type": "code",
      "source": [
        "r2_score(y_test, rf_grid_cv.best_estimator_.predict(X_test))"
      ],
      "metadata": {
        "id": "ZqEo7_5UyI10",
        "colab": {
          "base_uri": "https://localhost:8080/"
        },
        "outputId": "08b2b2fd-a692-433d-bdb2-b5543647f482"
      },
      "execution_count": null,
      "outputs": [
        {
          "output_type": "execute_result",
          "data": {
            "text/plain": [
              "0.9379610860209951"
            ]
          },
          "metadata": {},
          "execution_count": 28
        }
      ]
    },
    {
      "cell_type": "markdown",
      "source": [
        "Random forest shows significantly lower MAE, MSE, and a higher R2 score than LR."
      ],
      "metadata": {
        "id": "SD3fo-ZljHji"
      }
    },
    {
      "cell_type": "code",
      "source": [
        "RF_pipe = make_pipeline(\n",
        "    SimpleImputer(strategy='median'),\n",
        "    StandardScaler(),\n",
        "    RandomForestRegressor(random_state=47)\n",
        ")\n",
        "rf_default_cv_results = cross_validate(RF_pipe, X_train, y_train, cv=5)\n",
        "rf_cv_scores = rf_default_cv_results['test_score']\n",
        "search_space = {\n",
        "    'randomforestregressor__n_estimators': Integer(10, 200),\n",
        "    'randomforestregressor__max_features': Real(0.1, 1.0, 'uniform'),\n",
        "    'randomforestregressor__max_depth': Integer(1, 20),\n",
        "    'randomforestregressor__min_samples_split': Integer(2, 20),\n",
        "    'randomforestregressor__min_samples_leaf': Integer(1, 20),\n",
        "    'standardscaler': Categorical([StandardScaler(), None]),\n",
        "    'simpleimputer__strategy': Categorical(['mean', 'median'])\n",
        "}\n",
        "\n",
        "opt = BayesSearchCV(\n",
        "    estimator=RF_pipe,\n",
        "    search_spaces=search_space,\n",
        "    n_iter=50,\n",
        "    cv=5,\n",
        "    n_jobs=-1,\n",
        "    scoring='r2',\n",
        "    random_state=47\n",
        ")\n",
        "\n",
        "opt.fit(X_train, y_train)\n",
        "\n",
        "print(\"Best Parameters:\", opt.best_params_)\n",
        "print(\"Best Score:\", opt.best_score_)"
      ],
      "metadata": {
        "colab": {
          "base_uri": "https://localhost:8080/"
        },
        "id": "D7XniUJB3zYZ",
        "outputId": "973e798f-9e2a-41cf-e783-4a474469ead4"
      },
      "execution_count": null,
      "outputs": [
        {
          "output_type": "stream",
          "name": "stdout",
          "text": [
            "Best Parameters: OrderedDict([('randomforestregressor__max_depth', 14), ('randomforestregressor__max_features', 0.3621342162124933), ('randomforestregressor__min_samples_leaf', 1), ('randomforestregressor__min_samples_split', 2), ('randomforestregressor__n_estimators', 114), ('simpleimputer__strategy', 'median'), ('standardscaler', StandardScaler())])\n",
            "Best Score: 0.9464321055453709\n"
          ]
        }
      ]
    },
    {
      "cell_type": "code",
      "source": [
        "X_train, X_test, y_train, y_test = train_test_split(energy.drop(columns=['gdp_per_capita', 'country', 'year']),\n",
        "                                                    energy.gdp_per_capita, test_size=0.3,\n",
        "                                                    random_state=47)\n",
        "optimized_RF_pipe = make_pipeline(\n",
        "    SimpleImputer(strategy='median'),\n",
        "    StandardScaler(),\n",
        "    RandomForestRegressor(\n",
        "        n_estimators=114,\n",
        "        max_depth=14,\n",
        "        max_features=0.362,\n",
        "        min_samples_leaf=1,\n",
        "        min_samples_split=2,\n",
        "        random_state=47\n",
        "    )\n",
        ")\n",
        "\n",
        "optimized_RF_pipe.fit(X_train, y_train)\n",
        "\n",
        "y_pred = optimized_RF_pipe.predict(X_test)\n",
        "\n",
        "r2 = r2_score(y_test, y_pred)\n",
        "print(\"R² Score on Test Set:\", r2)"
      ],
      "metadata": {
        "colab": {
          "base_uri": "https://localhost:8080/"
        },
        "id": "XMz0dy3b30ee",
        "outputId": "88bb503a-aad4-48d0-80bb-6a663ce9160e"
      },
      "execution_count": null,
      "outputs": [
        {
          "output_type": "stream",
          "name": "stdout",
          "text": [
            "R² Score on Test Set: 0.9581309862748802\n"
          ]
        }
      ]
    },
    {
      "cell_type": "markdown",
      "source": [
        "Bayesian optimization gives an improved r2 of 0.95."
      ],
      "metadata": {
        "id": "HVv3yK3IJ7Tg"
      }
    },
    {
      "cell_type": "code",
      "source": [
        "y_train_pred = optimized_RF_pipe.predict(X_train)\n",
        "r2_train = r2_score(y_train, y_train_pred)\n",
        "print(\"R² Score on Training Set:\", r2_train)\n",
        "\n",
        "y_test_pred = optimized_RF_pipe.predict(X_test)\n",
        "r2_test = r2_score(y_test, y_test_pred)\n",
        "print(\"R² Score on Test Set:\", r2_test)\n",
        "\n",
        "difference = r2_train - r2_test\n",
        "print(\"Difference between Training and Test R² Scores:\", difference)"
      ],
      "metadata": {
        "colab": {
          "base_uri": "https://localhost:8080/"
        },
        "id": "ePHOo9-_6PhZ",
        "outputId": "1492ccf3-852b-46e3-afef-88657bd74e7c"
      },
      "execution_count": null,
      "outputs": [
        {
          "output_type": "stream",
          "name": "stdout",
          "text": [
            "R² Score on Training Set: 0.9932722508602264\n",
            "R² Score on Test Set: 0.9581309862748802\n",
            "Difference between Training and Test R² Scores: 0.035141264585346166\n"
          ]
        }
      ]
    },
    {
      "cell_type": "markdown",
      "source": [
        "Difference in r2 < 0.05 so not overfitting."
      ],
      "metadata": {
        "id": "bah5TvzCKBm-"
      }
    },
    {
      "cell_type": "markdown",
      "source": [
        "Complete model with either bagging, boosting, or stacking."
      ],
      "metadata": {
        "id": "7S_3zverKG-A"
      }
    },
    {
      "cell_type": "code",
      "source": [
        "\n",
        "bagging_regressor = BaggingRegressor(\n",
        "    base_estimator=RandomForestRegressor(\n",
        "        n_estimators=114,\n",
        "        max_depth=14,\n",
        "        max_features=0.362,\n",
        "        min_samples_leaf=1,\n",
        "        min_samples_split=2,\n",
        "        random_state=47\n",
        "    ),\n",
        "    n_estimators=10,\n",
        "    random_state=47,\n",
        "    n_jobs=-1\n",
        ")\n",
        "\n",
        "bagging_regressor.fit(X_train, y_train)\n",
        "\n",
        "y_pred_bagging = bagging_regressor.predict(X_test)\n",
        "\n",
        "r2_bagging = r2_score(y_test, y_pred_bagging)\n",
        "print(\"R² Score on Test Set with Bagging:\", r2_bagging)"
      ],
      "metadata": {
        "colab": {
          "base_uri": "https://localhost:8080/"
        },
        "id": "pQSxv7qUNMyi",
        "outputId": "1400a147-2071-4a32-dd79-980bcafdf9eb"
      },
      "execution_count": null,
      "outputs": [
        {
          "output_type": "stream",
          "name": "stderr",
          "text": [
            "/usr/local/lib/python3.10/dist-packages/sklearn/ensemble/_base.py:156: FutureWarning: `base_estimator` was renamed to `estimator` in version 1.2 and will be removed in 1.4.\n",
            "  warnings.warn(\n"
          ]
        },
        {
          "output_type": "stream",
          "name": "stdout",
          "text": [
            "R² Score on Test Set with Bagging: 0.9417015605847948\n"
          ]
        }
      ]
    },
    {
      "cell_type": "code",
      "source": [
        "boosting_regressor = GradientBoostingRegressor(\n",
        "    n_estimators=100,\n",
        "    learning_rate=0.1,\n",
        "    max_depth=3,\n",
        "    random_state=47\n",
        ")\n",
        "\n",
        "boosting_regressor.fit(X_train, y_train)\n",
        "\n",
        "y_pred_boosting = boosting_regressor.predict(X_test)\n",
        "\n",
        "r2_boosting = r2_score(y_test, y_pred_boosting)\n",
        "print(\"R² Score on Test Set with Boosting:\", r2_boosting)"
      ],
      "metadata": {
        "colab": {
          "base_uri": "https://localhost:8080/"
        },
        "id": "kVbHztdeNMvm",
        "outputId": "5e759f4b-3ce7-4520-cf4f-036a2d452069"
      },
      "execution_count": null,
      "outputs": [
        {
          "output_type": "stream",
          "name": "stdout",
          "text": [
            "R² Score on Test Set with Boosting: 0.928317357686419\n"
          ]
        }
      ]
    },
    {
      "cell_type": "code",
      "source": [
        "optimized_rf = make_pipeline(\n",
        "    SimpleImputer(strategy='median'),\n",
        "    StandardScaler(),\n",
        "    RandomForestRegressor(\n",
        "        n_estimators=114,\n",
        "        max_depth=14,\n",
        "        max_features=0.362,\n",
        "        min_samples_leaf=1,\n",
        "        min_samples_split=2,\n",
        "        random_state=47\n",
        "    )\n",
        ")\n",
        "\n",
        "gradient_boosting = GradientBoostingRegressor(random_state=47)\n",
        "\n",
        "meta_model = RandomForestRegressor(n_estimators=50, random_state=47)\n",
        "\n",
        "stacking_regressor = StackingRegressor(\n",
        "    estimators=[\n",
        "        ('optimized_rf', optimized_rf),\n",
        "        ('gradient_boosting', gradient_boosting)\n",
        "    ],\n",
        "    final_estimator=meta_model,\n",
        "    passthrough=True\n",
        ")\n",
        "\n",
        "stacking_regressor.fit(X_train, y_train)\n",
        "\n",
        "y_pred_stack = stacking_regressor.predict(X_test)\n",
        "\n",
        "r2_stack = r2_score(y_test, y_pred_stack)\n",
        "mse_stack = mean_squared_error(y_test, y_pred_stack)\n",
        "mae_stack = mean_absolute_error(y_test, y_pred_stack)\n",
        "print(\"R² Score on Test Set with Stacking (Random Forest Meta-Model):\", r2_stack)\n",
        "print(\"Mean Squared Error on Test Set with Stacking (Random Forest Meta-Model):\", mse_stack)\n",
        "print(\"Mean Absolute Error on Test Set with Stacking (Random Forest Meta-Model):\", mae_stack)"
      ],
      "metadata": {
        "colab": {
          "base_uri": "https://localhost:8080/"
        },
        "id": "wrrUrSpK_fU4",
        "outputId": "09ea58ef-9d45-4621-a845-07090c20f034"
      },
      "execution_count": null,
      "outputs": [
        {
          "output_type": "stream",
          "name": "stdout",
          "text": [
            "R² Score on Test Set with Stacking (Random Forest Meta-Model): 0.9658850438195037\n",
            "Mean Squared Error on Test Set with Stacking (Random Forest Meta-Model): 19723994.653780323\n",
            "Mean Absolute Error on Test Set with Stacking (Random Forest Meta-Model): 2600.374585687441\n"
          ]
        }
      ]
    },
    {
      "cell_type": "markdown",
      "source": [
        "Stacking gives the best r2 score."
      ],
      "metadata": {
        "id": "sCzTwlHuOZFi"
      }
    },
    {
      "cell_type": "code",
      "source": [
        "y_train_pred_stack = stacking_regressor.predict(X_train)\n",
        "r2_train_stack = r2_score(y_train, y_train_pred_stack)\n",
        "print(\"R² Score on Training Set with Stacking (Random Forest Meta-Model):\", r2_train_stack)\n",
        "\n",
        "print(\"R² Score on Test Set with Stacking (Random Forest Meta-Model):\", r2_stack)\n",
        "\n",
        "difference_stack = r2_train_stack - r2_stack\n",
        "print(\"Difference between Training and Test R² Scores with Stacking:\", difference_stack)"
      ],
      "metadata": {
        "colab": {
          "base_uri": "https://localhost:8080/"
        },
        "id": "HoMnN40BJTGx",
        "outputId": "7ce509fd-e41c-456d-c134-99c75d9209e5"
      },
      "execution_count": null,
      "outputs": [
        {
          "output_type": "stream",
          "name": "stdout",
          "text": [
            "R² Score on Training Set with Stacking (Random Forest Meta-Model): 0.9902721110834853\n",
            "R² Score on Test Set with Stacking (Random Forest Meta-Model): 0.9658850438195037\n",
            "Difference between Training and Test R² Scores with Stacking: 0.024387067263981654\n"
          ]
        }
      ]
    },
    {
      "cell_type": "markdown",
      "source": [
        "Difference between train and test r2 < 0.05."
      ],
      "metadata": {
        "id": "1YyIfQJKOTIj"
      }
    },
    {
      "cell_type": "code",
      "source": [
        "with open('gdp_per_capita_predictor', 'wb') as file:\n",
        "    pickle.dump(stacking_regressor, file)"
      ],
      "metadata": {
        "id": "UiN0CRltP6zx"
      },
      "execution_count": null,
      "outputs": []
    }
  ]
}